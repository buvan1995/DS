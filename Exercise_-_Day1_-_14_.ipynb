{
 "cells": [
  {
   "cell_type": "markdown",
   "metadata": {},
   "source": [
    "### The questions for the exercises are given above the cells and the expected output is given below the cell. Please type the code inserting a new cell below the question because if you run the expected output cell the output would vanish! Happy learning! "
   ]
  },
  {
   "cell_type": "markdown",
   "metadata": {},
   "source": [
    "## Exercise Question 1: Given an input list removes the element at index 4 and add it to the 2nd position and also, at the end of the list"
   ]
  },
  {
   "cell_type": "code",
   "execution_count": 19,
   "metadata": {},
   "outputs": [
    {
     "name": "stdout",
     "output_type": "stream",
     "text": [
      "[34, 54, 67, 89, 11, 43, 94]\n",
      "11\n",
      "list_1 after removing element at index 4 :  [34, 54, 67, 89, 43, 94]\n",
      "list_1 after after adding the element at index 2 :  [34, 54, 11, 67, 89, 43, 94]\n",
      "list_1 after adding the element at the end :  [34, 54, 11, 67, 89, 43, 94, 11]\n"
     ]
    }
   ],
   "source": [
    "#List\n",
    "list_1=[34,54,67,89,11,43,94]\n",
    "print(list_1)\n",
    "#Removing the element at index 4\n",
    "temp=list_1[4]\n",
    "print(temp)\n",
    "list_1.pop(4)\n",
    "print('list_1 after removing element at index 4 : ',list_1)\n",
    "\n",
    "#adding the element at index 2\n",
    "list_1.insert(2,temp)\n",
    "print('list_1 after after adding the element at index 2 : ',list_1)\n",
    "\n",
    "#adding  the element at end\n",
    "list_1.append(temp)\n",
    "print('list_1 after adding the element at the end : ',list_1)\n",
    "\n"
   ]
  },
  {
   "cell_type": "markdown",
   "metadata": {},
   "source": [
    "## Exercise Question 2: Given a Python list you should be able to display Python list in the following order"
   ]
  },
  {
   "cell_type": "code",
   "execution_count": 2,
   "metadata": {},
   "outputs": [
    {
     "name": "stdout",
     "output_type": "stream",
     "text": [
      "The Original List is: [100, 200, 300, 400, 500]\n",
      "The Expected result is:  [500, 400, 300, 200, 100]\n"
     ]
    }
   ],
   "source": []
  },
  {
   "cell_type": "code",
   "execution_count": 16,
   "metadata": {},
   "outputs": [
    {
     "name": "stdout",
     "output_type": "stream",
     "text": [
      "list_2 before revering :  [100, 200, 300, 400, 500]\n",
      "list_2 after reversing using [::-1]:  [500, 400, 300, 200, 100]\n",
      "list_2 after reversing using .reverse() :  [500, 400, 300, 200, 100]\n"
     ]
    }
   ],
   "source": [
    "#list\n",
    "list_2=[100,200,300,400,500]\n",
    "print('list_2 before revering : ',list_2)\n",
    "#list after reversing using [::-1]\n",
    "list_2=list_2[::-1]\n",
    "print('list_2 after reversing using [::-1]: ',list_2)\n",
    "#list after reversing using .reverse\n",
    "list_2.reverse()\n",
    "list_2.reverse()\n",
    "print('list_2 after reversing using .reverse() : ', list_2)"
   ]
  },
  {
   "cell_type": "markdown",
   "metadata": {},
   "source": [
    "## Exercise Question 3: Concatenate (join) two lists in the following order\n"
   ]
  },
  {
   "cell_type": "code",
   "execution_count": 3,
   "metadata": {},
   "outputs": [
    {
     "name": "stdout",
     "output_type": "stream",
     "text": [
      "The original list1: ['Hello ', 'take ']\n",
      "The original list2: ['Dear', 'Sir']\n",
      "The Expected result is: ['Hello ', 'take ', 'Dear', 'Sir']\n"
     ]
    }
   ],
   "source": []
  },
  {
   "cell_type": "code",
   "execution_count": 21,
   "metadata": {},
   "outputs": [
    {
     "name": "stdout",
     "output_type": "stream",
     "text": [
      "list1 :  ['Hello', 'take']\n",
      "list2 :  ['Dear', 'Sir']\n",
      "list after Concatenate :  ['Hello', 'take', 'Dear', 'Sir']\n"
     ]
    }
   ],
   "source": [
    "#list 1\n",
    "list_3=['Hello','take']\n",
    "print('list1 : ',list_3)\n",
    "#list 2\n",
    "list_4=['Dear','Sir']\n",
    "print('list2 : ',list_4)\n",
    "\n",
    "#list after concatenate\n",
    "list_3.extend(list_4)\n",
    "print('list after Concatenate : ',list_3)"
   ]
  },
  {
   "cell_type": "markdown",
   "metadata": {},
   "source": [
    "## Exercise Question 4: Add item 7000 after 6000 in the following Python List"
   ]
  },
  {
   "cell_type": "code",
   "execution_count": 12,
   "metadata": {},
   "outputs": [
    {
     "name": "stdout",
     "output_type": "stream",
     "text": [
      "The original list is: [10, 20, [300, 400, [5000, 6000], 500], 30, 40]\n",
      "The expected list is: [10, 20, [300, 400, [5000, 6000, 7000], 500], 30, 40]\n"
     ]
    }
   ],
   "source": []
  },
  {
   "cell_type": "code",
   "execution_count": 24,
   "metadata": {},
   "outputs": [
    {
     "name": "stdout",
     "output_type": "stream",
     "text": [
      "list_5 before adding 7000 :  [10, 20, [300, 400, [5000, 6000], 500], 30, 40]\n",
      "list at index 2 : [300, 400, [5000, 6000], 500]\n",
      "list at index 2[2] : [5000, 6000]\n",
      "list_5 after adding 7000:  [10, 20, [300, 400, [5000, 6000, 7000], 500], 30, 40]\n"
     ]
    }
   ],
   "source": [
    "#list 1\n",
    "list_5=[10, 20, [300, 400, [5000, 6000], 500], 30, 40]\n",
    "print('list_5 before adding 7000 : ',list_5)\n",
    "\n",
    "#list at index 2\n",
    "print('list at index 2 :',list_5[2])\n",
    "\n",
    "#list at index 2[2]\n",
    "print('list at index 2[2] :',list_5[2][2])\n",
    "\n",
    "list_5[2][2].append(7000)\n",
    "\n",
    "print('list_5 after adding 7000: ',list_5)\n",
    "\n",
    "\n"
   ]
  },
  {
   "cell_type": "markdown",
   "metadata": {},
   "source": [
    "## Exercise Question 5: Given a nested list extend it with adding sub list [\"h\", \"i\", \"j\"] in a such a way that it will look like the"
   ]
  },
  {
   "cell_type": "code",
   "execution_count": 14,
   "metadata": {},
   "outputs": [
    {
     "name": "stdout",
     "output_type": "stream",
     "text": [
      "The original List is: ['a', 'b', ['c', ['d', 'e', ['f', 'g'], 'k'], 'l'], 'm', 'n']\n",
      "The expected result is: ['a', 'b', ['c', ['d', 'e', ['f', 'g', 'h', 'i', 'j'], 'k'], 'l'], 'm', 'n']\n"
     ]
    }
   ],
   "source": []
  },
  {
   "cell_type": "code",
   "execution_count": 44,
   "metadata": {},
   "outputs": [
    {
     "name": "stdout",
     "output_type": "stream",
     "text": [
      "list_6 before extending [\"h\", \"i\", \"j\"] :  ['a', 'b', ['c', ['d', 'e', ['f', 'g'], 'k'], 'l'], 'm', 'n']\n",
      "sub list : ['h', 'i', 'j']\n",
      "extended list : ['a', 'b', ['c', ['d', 'e', ['f', 'g', 'h', 'i', 'j'], 'k'], 'l'], 'm', 'n']\n"
     ]
    }
   ],
   "source": [
    "#list\n",
    "list_6=['a', 'b', ['c', ['d', 'e', ['f', 'g'], 'k'], 'l'], 'm', 'n']\n",
    "print('list_6 before extending [\"h\", \"i\", \"j\"] : ',list_6)\n",
    "\n",
    "#sub list\n",
    "list_7= [\"h\", \"i\", \"j\"]\n",
    "print('sub list :',list_7)\n",
    "\n",
    "#extend list\n",
    "list_6[2][1][2].extend(list_7)\n",
    "print('extended list :',list_6)\n",
    "\n",
    "\n"
   ]
  },
  {
   "cell_type": "markdown",
   "metadata": {},
   "source": [
    "## Exercise Question 6: Given a Python list, find value 20 in the list, and if it is present, replace it with 200. Only update the first occurrence of a value"
   ]
  },
  {
   "cell_type": "code",
   "execution_count": 15,
   "metadata": {},
   "outputs": [
    {
     "name": "stdout",
     "output_type": "stream",
     "text": [
      "The original list is: [5, 10, 15, 20, 25, 50, 20]\n",
      "The expected output is: [5, 10, 15, 200, 25, 50, 20]\n"
     ]
    }
   ],
   "source": []
  },
  {
   "cell_type": "code",
   "execution_count": 53,
   "metadata": {},
   "outputs": [
    {
     "name": "stdout",
     "output_type": "stream",
     "text": [
      "list before adding 200 : [5, 10, 15, 20, 25, 50, 20]\n",
      "length of list: 7\n",
      "list after adding 200 : [5, 10, 15, 200, 25, 50, 20]\n"
     ]
    }
   ],
   "source": [
    "#list\n",
    "list_8=[5, 10, 15, 20, 25, 50, 20]\n",
    "print('list before adding 200 :',list_8)\n",
    "val_1=20\n",
    "val_2=200\n",
    "#check first occurance\n",
    "print('length of list:',len(list_8))\n",
    "for i in range(len(list_8)):\n",
    "    #print(i)\n",
    "    if list_8[i]==val_1:\n",
    "        list_8[i]=val_2\n",
    "        break\n",
    "print('list after adding 200 :',list_8)"
   ]
  },
  {
   "cell_type": "code",
   "execution_count": 54,
   "metadata": {},
   "outputs": [
    {
     "name": "stdout",
     "output_type": "stream",
     "text": [
      "list before adding 200 : [5, 10, 15, 20, 25, 50, 20]\n",
      "list after adding 200 : [5, 10, 15, 200, 25, 50, 20]\n"
     ]
    }
   ],
   "source": [
    "#list\n",
    "list_8=[5, 10, 15, 20, 25, 50, 20]\n",
    "print('list before adding 200 :',list_8)\n",
    "val_1=20\n",
    "val_2=200\n",
    "for i in list_8:\n",
    "    #print(i)\n",
    "    if i==val_1:\n",
    "        list_8[list_8.index(i)]=val_2\n",
    "        break\n",
    "        \n",
    "print('list after adding 200 :',list_8)"
   ]
  },
  {
   "cell_type": "code",
   "execution_count": null,
   "metadata": {},
   "outputs": [],
   "source": []
  }
 ],
 "metadata": {
  "kernelspec": {
   "display_name": "Python 3",
   "language": "python",
   "name": "python3"
  },
  "language_info": {
   "codemirror_mode": {
    "name": "ipython",
    "version": 3
   },
   "file_extension": ".py",
   "mimetype": "text/x-python",
   "name": "python",
   "nbconvert_exporter": "python",
   "pygments_lexer": "ipython3",
   "version": "3.7.4"
  }
 },
 "nbformat": 4,
 "nbformat_minor": 4
}
